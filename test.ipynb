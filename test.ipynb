{
 "cells": [
  {
   "cell_type": "code",
   "execution_count": 3,
   "id": "78a271c3",
   "metadata": {},
   "outputs": [],
   "source": [
    "import numpy as np\n",
    "\n",
    "vetices = np.load('/home/lirz6/PROGRAM/AE_LSTM/data/vertices.npy', allow_pickle=True)\n",
    "\n",
    "tri = np.load('/home/lirz6/PROGRAM/AE_LSTM/data/triangles.npy')"
   ]
  },
  {
   "cell_type": "markdown",
   "id": "8ee66243",
   "metadata": {},
   "source": [
    "The shape of `triangles.npy` is (334139, 3) and the shape of `vertices.npy` is (2, 201640).\n",
    "\n",
    "This means:\n",
    "*   There are 334,139 triangles.\n",
    "*   Each triangle is defined by 3 vertex indices.\n",
    "*   There are 201,640 vertices.\n",
    "*   For each vertex, there are 2 coordinates (presumably longitude and latitude).\n",
    "\n",
    "However, the `vertices` array shape `(2, 201640)` is a bit unusual for typical usage with Matplotlib's `tripcolor` or similar functions, which usually expect vertices as `(num_vertices, num_dimensions_per_vertex)`, e.g., `(201640, 2)`.\n",
    "\n",
    "We should load and inspect `vertices.npy` to confirm its structure and transpose it if necessary before using it for plotting. The salinity data (or any data to be visualized on the mesh) should have a value for each of these 201,640 vertices."
   ]
  }
 ],
 "metadata": {
  "kernelspec": {
   "display_name": "presal",
   "language": "python",
   "name": "python3"
  },
  "language_info": {
   "codemirror_mode": {
    "name": "ipython",
    "version": 3
   },
   "file_extension": ".py",
   "mimetype": "text/x-python",
   "name": "python",
   "nbconvert_exporter": "python",
   "pygments_lexer": "ipython3",
   "version": "3.12.9"
  }
 },
 "nbformat": 4,
 "nbformat_minor": 5
}
